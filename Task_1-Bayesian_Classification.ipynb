{
 "cells": [
  {
   "cell_type": "code",
   "execution_count": 156,
   "id": "initial_id",
   "metadata": {
    "collapsed": true,
    "ExecuteTime": {
     "end_time": "2024-03-02T00:16:08.336810Z",
     "start_time": "2024-03-02T00:16:08.320747Z"
    }
   },
   "outputs": [],
   "source": [
    "import numpy as np\n",
    "from scipy.linalg import inv\n",
    "from scipy.stats import multivariate_normal\n",
    "from sklearn.discriminant_analysis import LinearDiscriminantAnalysis, QuadraticDiscriminantAnalysis\n",
    "from sklearn.naive_bayes import  GaussianNB"
   ]
  },
  {
   "cell_type": "markdown",
   "source": [
    "# Task 1.\n",
    "Implementation (from scratch) of LDA, QDA and NB (Naive Bayes) methods for binary classification (classes 0 and 1).\n",
    "## LDA  *Linear Discriminant Analysis*"
   ],
   "metadata": {
    "collapsed": false
   },
   "id": "9dafad14e110e78c"
  },
  {
   "cell_type": "code",
   "execution_count": 157,
   "outputs": [],
   "source": [
    "class LDA:\n",
    "    def __init__(self):        \n",
    "        self.mean_0 = None\n",
    "        self.mean_1 = None\n",
    "        self.covariance = None\n",
    "        self.prior_0 = None\n",
    "        self.prior_1 = None\n",
    "        self.intercept = None\n",
    "        self.coefs = None\n",
    "\n",
    "    def fit(self, X, y):\n",
    "        X_0 = X[y == 0]\n",
    "        X_1 = X[y == 1]\n",
    "\n",
    "        self.mean_0 = np.mean(X_0, axis=0)\n",
    "        self.mean_1 = np.mean(X_1, axis=0)\n",
    "\n",
    "        self.covariance = (\n",
    "            (X_0 - self.mean_0).T @ (X_0 - self.mean_0) +\n",
    "            (X_1 - self.mean_1).T @ (X_1 - self.mean_1)\n",
    "            )/(len(y)-2)\n",
    "\n",
    "        self.prior_0 = len(X_0) / len(X)\n",
    "        self.prior_1 = len(X_1) / len(X)\n",
    "        \n",
    "        self.intercept = -0.5 * (\n",
    "            (self.mean_1 - self.mean_0).T.dot(inv(self.covariance)).dot(self.mean_1 + self.mean_0)\n",
    "            ) + np.log(self.prior_1 / self.prior_0)\n",
    "        \n",
    "        self.coefs = inv(self.covariance).dot(self.mean_1 - self.mean_0)\n",
    "\n",
    "    def predict_proba(self, Xtest):\n",
    "        prob_class_0 = multivariate_normal.pdf(Xtest, self.mean_0, self.covariance)\n",
    "        prob_class_1 = multivariate_normal.pdf(Xtest, self.mean_1, self.covariance)\n",
    "        return (prob_class_1 * self.prior_1) / (prob_class_1 * self.prior_1 + prob_class_0 * self.prior_0)\n",
    "\n",
    "    def predict(self, Xtest):\n",
    "        return [1 if self.predict_proba(x) > 0.5 else 0 for x in Xtest]\n",
    "    \n",
    "    def get_params(self):\n",
    "        return [\n",
    "            (\"Mean of class 0\", self.mean_0),\n",
    "            (\"Mean of class 1\", self.mean_1),\n",
    "            (\"Covariance\", self.covariance),\n",
    "            (\"Coefficients\", self.coefs),\n",
    "            (\"Intercept\", self.intercept)\n",
    "        ]"
   ],
   "metadata": {
    "collapsed": false,
    "ExecuteTime": {
     "end_time": "2024-03-02T00:16:08.947043600Z",
     "start_time": "2024-03-02T00:16:08.936946Z"
    }
   },
   "id": "a7edfe2a6233e61c"
  },
  {
   "cell_type": "markdown",
   "source": [
    "LDA code validation"
   ],
   "metadata": {
    "collapsed": false
   },
   "id": "84b3400db836712b"
  },
  {
   "cell_type": "code",
   "execution_count": 158,
   "outputs": [
    {
     "name": "stdout",
     "output_type": "stream",
     "text": [
      "My implementation: [0.99995065 0.90151895 0.75435837 0.50033818 0.50744213 0.99633245\n",
      " 0.76473734]\n",
      "Scikit-learn implementation: \n",
      "[[4.93454934e-05 9.99950655e-01]\n",
      " [9.84810473e-02 9.01518953e-01]\n",
      " [2.45641635e-01 7.54358365e-01]\n",
      " [4.99661822e-01 5.00338178e-01]\n",
      " [4.92557869e-01 5.07442131e-01]\n",
      " [3.66754559e-03 9.96332454e-01]\n",
      " [2.35262657e-01 7.64737343e-01]]\n"
     ]
    }
   ],
   "source": [
    "X, y = generate_scheme_1(1000, 2, 1)\n",
    "sklearn_LDA = LinearDiscriminantAnalysis(store_covariance=True)\n",
    "sklearn_LDA.fit(X, y)\n",
    "my_LDA = LDA()\n",
    "my_LDA.fit(X, y)\n",
    "print(f\"My implementation: {my_LDA.predict_proba(np.array([[8, 2], [2, 1], [1, 1], [0.5, 0.5], [0, 1], [3, 3], [0, 2]]))}\")\n",
    "print(f\"Scikit-learn implementation: \\n{sklearn_LDA.predict_proba(np.array([[8, 2], [2, 1], [1, 1], [0.5, 0.5], [0, 1], [3, 3], [0, 2]]))}\")"
   ],
   "metadata": {
    "collapsed": false,
    "ExecuteTime": {
     "end_time": "2024-03-02T00:16:09.657727600Z",
     "start_time": "2024-03-02T00:16:09.646782700Z"
    }
   },
   "id": "431fbb9cd87134cd"
  },
  {
   "cell_type": "markdown",
   "source": [
    "## QDA *Quadratic Discriminant Analysis*"
   ],
   "metadata": {
    "collapsed": false
   },
   "id": "7cd85e6ce0b46789"
  },
  {
   "cell_type": "code",
   "execution_count": 159,
   "outputs": [],
   "source": [
    "class QDA:\n",
    "    def __init__(self):        \n",
    "        self.mean_0 = None\n",
    "        self.mean_1 = None\n",
    "        self.covariance_0 = None\n",
    "        self.covariance_1 = None\n",
    "        self.prior_0 = None\n",
    "        self.prior_1 = None\n",
    "        # self.intercept = None\n",
    "        # self.coefs = None\n",
    "\n",
    "    def fit(self, X, y):\n",
    "        X_0 = X[y == 0]\n",
    "        X_1 = X[y == 1]\n",
    "\n",
    "        self.mean_0 = np.mean(X_0, axis=0)\n",
    "        self.mean_1 = np.mean(X_1, axis=0)\n",
    "\n",
    "        self.covariance_0 = (X_0 - self.mean_0).T.dot(X_0 - self.mean_0) / (len(X_0)-1)\n",
    "        self.covariance_1 = (X_1 - self.mean_1).T.dot(X_1 - self.mean_1) / (len(X_1)-1)\n",
    "        \n",
    "        self.prior_0 = len(X_0) / len(X)\n",
    "        self.prior_1 = len(X_1) / len(X)\n",
    "        \n",
    "        # self.intercept = -0.5 * (\n",
    "        #     (self.mean_1 - self.mean_0).T.dot(inv(self.covariance)).dot(self.mean_1 + self.mean_0)\n",
    "        #     ) + np.log(self.prior_1 / self.prior_0)\n",
    "        # \n",
    "        # self.coefs = inv(self.covariance).dot(self.mean_1 - self.mean_0)\n",
    "\n",
    "    def predict_proba(self, Xtest):\n",
    "        prob_class_0 = multivariate_normal.pdf(Xtest, self.mean_0, self.covariance_0)\n",
    "        prob_class_1 = multivariate_normal.pdf(Xtest, self.mean_1, self.covariance_1)\n",
    "        return (prob_class_1 * self.prior_1) / (prob_class_1 * self.prior_1 + prob_class_0 * self.prior_0)\n",
    "\n",
    "    def predict(self, Xtest):\n",
    "        return [1 if self.predict_proba(x) > 0.5 else 0 for x in Xtest]\n",
    "    \n",
    "    def get_params(self):\n",
    "        return [\n",
    "            (\"Mean of class 0\", self.mean_0),\n",
    "            (\"Mean of class 1\", self.mean_1),\n",
    "            (\"Covariance of class 0\", self.covariance_0),\n",
    "            (\"Covariance of class 1\", self.covariance_1),\n",
    "            # (\"Coefficients\", self.coefs),\n",
    "            # (\"Intercept\", self.intercept)\n",
    "        ]"
   ],
   "metadata": {
    "collapsed": false,
    "ExecuteTime": {
     "end_time": "2024-03-02T00:16:11.171964900Z",
     "start_time": "2024-03-02T00:16:11.167054900Z"
    }
   },
   "id": "c5e3d9cd38cbeec5"
  },
  {
   "cell_type": "markdown",
   "source": [
    "QDA code validation"
   ],
   "metadata": {
    "collapsed": false
   },
   "id": "4302c67f3f8bda9d"
  },
  {
   "cell_type": "code",
   "execution_count": 160,
   "outputs": [
    {
     "name": "stdout",
     "output_type": "stream",
     "text": [
      "My implementation: [0.99999242 0.89474588 0.75160241 0.52813823 0.53994963 0.99446766\n",
      " 0.71673663]\n",
      "Scikit-learn implementation: \n",
      "[[7.57846157e-06 9.99992422e-01]\n",
      " [1.05254122e-01 8.94745878e-01]\n",
      " [2.48397586e-01 7.51602414e-01]\n",
      " [4.71861775e-01 5.28138225e-01]\n",
      " [4.60050366e-01 5.39949634e-01]\n",
      " [5.53233699e-03 9.94467663e-01]\n",
      " [2.83263373e-01 7.16736627e-01]]\n"
     ]
    }
   ],
   "source": [
    "X, y = generate_scheme_1(1000, 2, 1)\n",
    "sklearn_QDA = QuadraticDiscriminantAnalysis(store_covariance=True)\n",
    "sklearn_QDA.fit(X, y)\n",
    "my_QDA = QDA()\n",
    "my_QDA.fit(X, y)\n",
    "print(f\"My implementation: {my_QDA.predict_proba(np.array([[8, 2], [2, 1], [1, 1], [0.5, 0.5], [0, 1], [3, 3], [0, 2]]))}\")\n",
    "print(f\"Scikit-learn implementation: \\n{sklearn_QDA.predict_proba(np.array([[8, 2], [2, 1], [1, 1], [0.5, 0.5], [0, 1], [3, 3], [0, 2]]))}\")"
   ],
   "metadata": {
    "collapsed": false,
    "ExecuteTime": {
     "end_time": "2024-03-02T00:16:12.297232400Z",
     "start_time": "2024-03-02T00:16:12.276714900Z"
    }
   },
   "id": "56f8daa964faf6a2"
  },
  {
   "cell_type": "markdown",
   "source": [
    "## Naive Bayes"
   ],
   "metadata": {
    "collapsed": false
   },
   "id": "67b6228d48df7f88"
  },
  {
   "cell_type": "code",
   "execution_count": 161,
   "outputs": [],
   "source": [
    "class NB:\n",
    "    def __init__(self):        \n",
    "        self.mean_0 = None\n",
    "        self.mean_1 = None\n",
    "        self.covariance_0 = None\n",
    "        self.covariance_1 = None\n",
    "        self.prior_0 = None\n",
    "        self.prior_1 = None\n",
    "        # self.intercept = None\n",
    "        # self.coefs = None\n",
    "\n",
    "    def fit(self, X, y):\n",
    "        X_0 = X[y == 0]\n",
    "        X_1 = X[y == 1]\n",
    "\n",
    "        self.mean_0 = np.mean(X_0, axis=0)\n",
    "        self.mean_1 = np.mean(X_1, axis=0)\n",
    "\n",
    "        self.covariance_0 = (X_0 - self.mean_0).T.dot(X_0 - self.mean_0) / (len(X_0)-1)\n",
    "        self.covariance_1 = (X_1 - self.mean_1).T.dot(X_1 - self.mean_1) / (len(X_1)-1)\n",
    "        \n",
    "        self.prior_0 = len(X_0) / len(X)\n",
    "        self.prior_1 = len(X_1) / len(X)\n",
    "        \n",
    "        self.y = y\n",
    "\n",
    "    def predict_proba(self, Xtest):\n",
    "        prob_class_0 = multivariate_normal.pdf(Xtest, self.mean_0, self.covariance_0) * len(self.y[self.y == 0]) / len(self.y)\n",
    "        prob_class_1 = multivariate_normal.pdf(Xtest, self.mean_1, self.covariance_1) * len(self.y[self.y == 1]) / len(self.y)\n",
    "        return prob_class_1 / (prob_class_0 + prob_class_1)\n",
    "\n",
    "    def predict(self, Xtest):\n",
    "        return [1 if self.predict_proba(x) > 0.5 else 0 for x in Xtest]\n",
    "    \n",
    "    def get_params(self):\n",
    "        return [\n",
    "            (\"Mean of class 0\", self.mean_0),\n",
    "            (\"Mean of class 1\", self.mean_1),\n",
    "            (\"Covariance of class 0\", self.covariance_0),\n",
    "            (\"Covariance of class 1\", self.covariance_1),\n",
    "            # (\"Coefficients\", self.coefs),\n",
    "            # (\"Intercept\", self.intercept)\n",
    "        ]"
   ],
   "metadata": {
    "collapsed": false,
    "ExecuteTime": {
     "end_time": "2024-03-02T00:16:13.438678700Z",
     "start_time": "2024-03-02T00:16:13.421748500Z"
    }
   },
   "id": "73f18e130f4ebae8"
  },
  {
   "cell_type": "markdown",
   "source": [
    "Naive Bayes code validation"
   ],
   "metadata": {
    "collapsed": false
   },
   "id": "6aeccfdfc8134f1b"
  },
  {
   "cell_type": "code",
   "execution_count": 162,
   "outputs": [
    {
     "name": "stdout",
     "output_type": "stream",
     "text": [
      "My implementation: [0.99999994 0.90155687 0.48309541 0.0945518  0.08332751 0.99981984\n",
      " 0.44587142]\n",
      "Scikit-learn implementation: \n",
      "[[7.38474493e-08 9.99999926e-01]\n",
      " [1.02355510e-01 8.97644490e-01]\n",
      " [5.03708771e-01 4.96291229e-01]\n",
      " [8.90139669e-01 1.09860331e-01]\n",
      " [9.04106336e-01 9.58936640e-02]\n",
      " [2.03534748e-04 9.99796465e-01]\n",
      " [5.53224128e-01 4.46775872e-01]]\n"
     ]
    }
   ],
   "source": [
    "X, y = generate_scheme_1(1000, 2, 1)\n",
    "sklearn_NB = GaussianNB()\n",
    "sklearn_NB.fit(X, y)\n",
    "my_NB = NB()\n",
    "my_NB.fit(X, y)\n",
    "print(f\"My implementation: {my_NB.predict_proba(np.array([[8, 2], [2, 1], [1, 1], [0.5, 0.5], [0, 1], [3, 3], [0, 2]]))}\")\n",
    "print(f\"Scikit-learn implementation: \\n{sklearn_NB.predict_proba(np.array([[8, 2], [2, 1], [1, 1], [0.5, 0.5], [0, 1], [3, 3], [0, 2]]))}\")"
   ],
   "metadata": {
    "collapsed": false,
    "ExecuteTime": {
     "end_time": "2024-03-02T00:16:14.776948400Z",
     "start_time": "2024-03-02T00:16:14.760076300Z"
    }
   },
   "id": "8f7af9d3e6aaad28"
  },
  {
   "cell_type": "markdown",
   "source": [
    "# Task 2. \n",
    "## Generating training and testing data."
   ],
   "metadata": {
    "collapsed": false
   },
   "id": "c2584dda204e0166"
  },
  {
   "cell_type": "code",
   "execution_count": 164,
   "outputs": [],
   "source": [
    "def generate_scheme_1(n, p, a):\n",
    "    y = np.random.binomial(1, 0.5, size=n)\n",
    "    X_0 = np.random.normal(0, 1, size=(n, p))\n",
    "    X_1 = np.random.normal(a, 1, size=(n, p))\n",
    "    X = X_0 * (1 - y[:, np.newaxis]) + X_1 * y[:, np.newaxis]\n",
    "    return X, y"
   ],
   "metadata": {
    "collapsed": false,
    "ExecuteTime": {
     "end_time": "2024-03-02T00:16:29.140900300Z",
     "start_time": "2024-03-02T00:16:29.136604800Z"
    }
   },
   "id": "23af41c72ce5ae8e"
  },
  {
   "cell_type": "code",
   "execution_count": 165,
   "outputs": [],
   "source": [
    "def generate_scheme_2(n, a, rho):\n",
    "    variance = 1\n",
    "    mean_0 = np.zeros(2)\n",
    "    cov_matrix_0 = [[variance, rho], [rho, variance]]\n",
    "    X_0 = np.random.multivariate_normal(mean_0, cov_matrix_0, n)\n",
    "    \n",
    "    mean_1 = [a] * 2\n",
    "    cov_matrix_1 = [[variance, -rho], [-rho, variance]]\n",
    "    X_1 = np.random.multivariate_normal(mean_1, cov_matrix_1, n)\n",
    "    \n",
    "    y = np.random.binomial(1, 0.5, size=n)\n",
    "    X = X_0 * (1 - y[:, np.newaxis]) + X_1 * y[:, np.newaxis]\n",
    "    return X, y"
   ],
   "metadata": {
    "collapsed": false,
    "ExecuteTime": {
     "end_time": "2024-03-02T00:16:30.117180800Z",
     "start_time": "2024-03-02T00:16:30.086610600Z"
    }
   },
   "id": "a3c20ece4cf3e20"
  },
  {
   "cell_type": "markdown",
   "source": [
    "## Compare LDA, QDA, and NB for both schemes \n",
    "Compute accuracy on the testing set.\n",
    "Test for fixed value a = 2 and different values of ρ = 0, 0.1, 0.3, 0.5, 0.7, 0.9. \n",
    "Repeat the experiment for different train/test splits and generate boxplots showing the values of accuracy for each method and each value of the parameter ρ. "
   ],
   "metadata": {
    "collapsed": false
   },
   "id": "3166aecba5bdc1fc"
  },
  {
   "cell_type": "code",
   "execution_count": 168,
   "outputs": [],
   "source": [
    "X_scheme1, y_scheme1 = generate_scheme_1(1000, 2, 1)\n",
    "X_scheme2, y_scheme2 = generate_scheme_2(1000, 2, 1)"
   ],
   "metadata": {
    "collapsed": false,
    "ExecuteTime": {
     "end_time": "2024-03-02T00:26:59.020014900Z",
     "start_time": "2024-03-02T00:26:59.003408Z"
    }
   },
   "id": "ce7d2a88b083159f"
  },
  {
   "cell_type": "code",
   "execution_count": 170,
   "outputs": [],
   "source": [],
   "metadata": {
    "collapsed": false,
    "ExecuteTime": {
     "end_time": "2024-03-02T00:32:08.514240500Z",
     "start_time": "2024-03-02T00:32:08.472949900Z"
    }
   },
   "id": "37a5310b42df1e82"
  },
  {
   "cell_type": "code",
   "execution_count": null,
   "outputs": [],
   "source": [],
   "metadata": {
    "collapsed": false
   },
   "id": "74d3773a6290e7a8"
  }
 ],
 "metadata": {
  "kernelspec": {
   "display_name": "Python 3",
   "language": "python",
   "name": "python3"
  },
  "language_info": {
   "codemirror_mode": {
    "name": "ipython",
    "version": 2
   },
   "file_extension": ".py",
   "mimetype": "text/x-python",
   "name": "python",
   "nbconvert_exporter": "python",
   "pygments_lexer": "ipython2",
   "version": "2.7.6"
  }
 },
 "nbformat": 4,
 "nbformat_minor": 5
}
