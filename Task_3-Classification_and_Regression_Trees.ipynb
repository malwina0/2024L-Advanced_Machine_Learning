{
 "cells": [
  {
   "cell_type": "markdown",
   "source": [
    "#### Malwina Wojewoda\n",
    "# Task 3.\n",
    "Implement your own version of bagging algorithm. You can use available implementations of decision trees (or other base learners). Compare the accuracy (compute for different train-test splits) of bagging and single tree using two datasetes."
   ],
   "metadata": {
    "collapsed": false
   },
   "id": "2a525435dde948c6"
  },
  {
   "cell_type": "code",
   "execution_count": 1,
   "outputs": [],
   "source": [
    "import numpy as np\n",
    "import pandas as pd\n",
    "from sklearn.tree import DecisionTreeClassifier\n",
    "from sklearn.model_selection import train_test_split\n",
    "from sklearn.metrics import accuracy_score"
   ],
   "metadata": {
    "collapsed": false,
    "ExecuteTime": {
     "end_time": "2024-03-23T17:48:25.807682900Z",
     "start_time": "2024-03-23T17:48:22.306399Z"
    }
   },
   "id": "b37bc58f90529aee"
  },
  {
   "cell_type": "code",
   "execution_count": 73,
   "outputs": [],
   "source": [
    "df = pd.read_csv('data/SAheart.data')\n",
    "df['famhist'] = df['famhist'].apply(lambda x: 1 if x == 'Present' else 0)\n",
    "y = df['chd']\n",
    "X = df.drop('chd', axis=1)"
   ],
   "metadata": {
    "collapsed": false,
    "ExecuteTime": {
     "end_time": "2024-03-23T19:13:52.282207700Z",
     "start_time": "2024-03-23T19:13:52.214139900Z"
    }
   },
   "id": "1b814f05a71994ae"
  },
  {
   "cell_type": "code",
   "execution_count": 74,
   "outputs": [],
   "source": [
    "X_train, X_test, y_train, y_test = train_test_split(X, y, test_size=0.2, random_state=42)"
   ],
   "metadata": {
    "collapsed": false,
    "ExecuteTime": {
     "end_time": "2024-03-23T19:13:53.032744800Z",
     "start_time": "2024-03-23T19:13:52.986164600Z"
    }
   },
   "id": "53fd4097df4082b4"
  },
  {
   "cell_type": "code",
   "execution_count": 69,
   "outputs": [],
   "source": [
    "clf = DecisionTreeClassifier()\n",
    "clf.fit(X_train, y_train)\n",
    "y_pred = clf.predict(X_test)\n",
    "accuracy = accuracy_score(y_test, y_pred)"
   ],
   "metadata": {
    "collapsed": false,
    "ExecuteTime": {
     "end_time": "2024-03-23T19:06:00.365354300Z",
     "start_time": "2024-03-23T19:06:00.343445200Z"
    }
   },
   "id": "b4055f6cb8e5331"
  },
  {
   "cell_type": "code",
   "execution_count": 70,
   "outputs": [
    {
     "data": {
      "text/plain": "0.5591397849462365"
     },
     "execution_count": 70,
     "metadata": {},
     "output_type": "execute_result"
    }
   ],
   "source": [
    "accuracy"
   ],
   "metadata": {
    "collapsed": false,
    "ExecuteTime": {
     "end_time": "2024-03-23T19:06:00.571805100Z",
     "start_time": "2024-03-23T19:06:00.566107500Z"
    }
   },
   "id": "ebb9c7b8d29a9a27"
  },
  {
   "cell_type": "code",
   "execution_count": 76,
   "outputs": [],
   "source": [
    "def create_bootstrap_sample(X, y):\n",
    "    # Get the number of rows in X\n",
    "    n_rows = X.shape[0]\n",
    "    bootstrap_indices = np.random.choice(X.shape[0], size=X.shape[0], replace=True)\n",
    "    bootstrap_X = X.iloc[bootstrap_indices]\n",
    "    bootstrap_y = y.iloc[bootstrap_indices]\n",
    "    return bootstrap_X, bootstrap_y\n",
    "\n",
    "bootstrap_X, bootstrap_y = create_bootstrap_sample(X_train, y_train)"
   ],
   "metadata": {
    "collapsed": false,
    "ExecuteTime": {
     "end_time": "2024-03-23T19:14:20.406570400Z",
     "start_time": "2024-03-23T19:14:20.398732900Z"
    }
   },
   "id": "e6cf07bf60abf6f3"
  },
  {
   "cell_type": "code",
   "execution_count": 77,
   "outputs": [],
   "source": [
    "clf = DecisionTreeClassifier()\n",
    "clf.fit(bootstrap_X, bootstrap_y)\n",
    "y_pred = clf.predict(X_test)\n",
    "accuracy = accuracy_score(y_test, y_pred)"
   ],
   "metadata": {
    "collapsed": false,
    "ExecuteTime": {
     "end_time": "2024-03-23T19:14:24.460459700Z",
     "start_time": "2024-03-23T19:14:24.437073500Z"
    }
   },
   "id": "725486d37aa9a837"
  },
  {
   "cell_type": "code",
   "execution_count": 78,
   "outputs": [
    {
     "data": {
      "text/plain": "0.6236559139784946"
     },
     "execution_count": 78,
     "metadata": {},
     "output_type": "execute_result"
    }
   ],
   "source": [
    "accuracy"
   ],
   "metadata": {
    "collapsed": false,
    "ExecuteTime": {
     "end_time": "2024-03-23T19:14:25.444438200Z",
     "start_time": "2024-03-23T19:14:25.438241500Z"
    }
   },
   "id": "3d9b8a5b6385e808"
  },
  {
   "cell_type": "code",
   "execution_count": 79,
   "outputs": [],
   "source": [
    "def train_bagging_classifier(X, y, n_estimators=10):\n",
    "    trees = []\n",
    "    for _ in range(n_estimators):\n",
    "        bootstrap_indices = np.random.choice(X.shape[0], size=X.shape[0], replace=True)\n",
    "        bootstrap_X = X.iloc[bootstrap_indices]\n",
    "        bootstrap_y = y.iloc[bootstrap_indices]\n",
    "        tree = DecisionTreeClassifier()\n",
    "        tree.fit(bootstrap_X, bootstrap_y)\n",
    "        trees.append(tree)\n",
    "\n",
    "    return trees"
   ],
   "metadata": {
    "collapsed": false,
    "ExecuteTime": {
     "end_time": "2024-03-23T19:15:36.536024100Z",
     "start_time": "2024-03-23T19:15:36.525553100Z"
    }
   },
   "id": "8e2b3c611d70113b"
  },
  {
   "cell_type": "code",
   "execution_count": 80,
   "outputs": [],
   "source": [
    "trees = train_bagging_classifier(X_train, y_train)"
   ],
   "metadata": {
    "collapsed": false,
    "ExecuteTime": {
     "end_time": "2024-03-23T19:15:37.263814600Z",
     "start_time": "2024-03-23T19:15:37.218704300Z"
    }
   },
   "id": "313d727671152690"
  },
  {
   "cell_type": "code",
   "execution_count": 85,
   "outputs": [],
   "source": [
    "def predict_bagging_classifier(X_test, estimators):\n",
    "    all_probs = []\n",
    "    for tree in estimators:\n",
    "        probs = tree.predict_proba(X_test)\n",
    "        all_probs.append(probs)\n",
    "\n",
    "    avg_probs = np.mean(all_probs, axis=0)\n",
    "    return np.argmax(avg_probs, axis=1)"
   ],
   "metadata": {
    "collapsed": false,
    "ExecuteTime": {
     "end_time": "2024-03-23T19:15:46.967023100Z",
     "start_time": "2024-03-23T19:15:46.967023100Z"
    }
   },
   "id": "3b61efc15f8fc11"
  },
  {
   "cell_type": "code",
   "execution_count": 86,
   "outputs": [],
   "source": [
    "y_pred = predict_bagging_classifier(X_test, trees)"
   ],
   "metadata": {
    "collapsed": false,
    "ExecuteTime": {
     "end_time": "2024-03-23T19:15:47.298921900Z",
     "start_time": "2024-03-23T19:15:47.288307800Z"
    }
   },
   "id": "4fbc9085725cf471"
  },
  {
   "cell_type": "code",
   "execution_count": 87,
   "outputs": [],
   "source": [
    "accuracy = accuracy_score(y_test, y_pred)"
   ],
   "metadata": {
    "collapsed": false,
    "ExecuteTime": {
     "end_time": "2024-03-23T19:15:47.646953200Z",
     "start_time": "2024-03-23T19:15:47.643931900Z"
    }
   },
   "id": "4ee5e11dee045152"
  },
  {
   "cell_type": "code",
   "execution_count": 88,
   "outputs": [
    {
     "data": {
      "text/plain": "0.6559139784946236"
     },
     "execution_count": 88,
     "metadata": {},
     "output_type": "execute_result"
    }
   ],
   "source": [
    "accuracy"
   ],
   "metadata": {
    "collapsed": false,
    "ExecuteTime": {
     "end_time": "2024-03-23T19:15:48.371917Z",
     "start_time": "2024-03-23T19:15:48.359297800Z"
    }
   },
   "id": "5ccb6fe1c575373c"
  },
  {
   "cell_type": "code",
   "execution_count": 71,
   "outputs": [],
   "source": [
    "class BaggingTreesClassifier:\n",
    "    def __init__(self, n_trees=10):\n",
    "        self.n_trees = n_trees\n",
    "        self.trees = []\n",
    "        \n",
    "    def fit(self, X, y):\n",
    "        for _ in range(self.n_trees):\n",
    "            idx = np.random.choice(X.shape[0], size=X.shape[0], replace=True)\n",
    "            X_bootstrap = X.iloc[idx]\n",
    "            y_bootstrap = y.iloc[idx]\n",
    "            tree = DecisionTreeClassifier()\n",
    "            tree.fit(X_bootstrap, y_bootstrap)\n",
    "            self.trees.append(tree)\n",
    "    \n",
    "    def predict_proba(self, X):\n",
    "        trees_probas = []\n",
    "        for tree in self.trees:\n",
    "            tree_proba= tree.predict_proba(X)\n",
    "            trees_probas.append(tree_proba)\n",
    "\n",
    "        avg_proba = np.mean(trees_probas, axis=0)\n",
    "        return avg_proba\n",
    "    \n",
    "    def predict(self, X):\n",
    "        avg_proba = self.predict_proba(X)\n",
    "        return np.argmax(avg_proba, axis=1)     "
   ],
   "metadata": {
    "collapsed": false,
    "ExecuteTime": {
     "end_time": "2024-03-23T19:13:17.219675500Z",
     "start_time": "2024-03-23T19:13:17.188412500Z"
    }
   },
   "id": "8e67f69183a0258e"
  },
  {
   "cell_type": "code",
   "execution_count": 91,
   "outputs": [],
   "source": [
    "bagging_classifier = BaggingTreesClassifier(n_trees=10)\n",
    "bagging_classifier.fit(X_train, y_train)\n",
    "predictions = bagging_classifier.predict(X_test)"
   ],
   "metadata": {
    "collapsed": false,
    "ExecuteTime": {
     "end_time": "2024-03-23T19:18:18.436756Z",
     "start_time": "2024-03-23T19:18:18.376199400Z"
    }
   },
   "id": "865f0d3a2ebc8445"
  },
  {
   "cell_type": "code",
   "execution_count": 92,
   "outputs": [],
   "source": [
    "accuracy = accuracy_score(y_test, predictions)"
   ],
   "metadata": {
    "collapsed": false,
    "ExecuteTime": {
     "end_time": "2024-03-23T19:18:37.750160700Z",
     "start_time": "2024-03-23T19:18:37.737138400Z"
    }
   },
   "id": "b73ed6f220dcafef"
  },
  {
   "cell_type": "code",
   "execution_count": 93,
   "outputs": [
    {
     "data": {
      "text/plain": "0.6451612903225806"
     },
     "execution_count": 93,
     "metadata": {},
     "output_type": "execute_result"
    }
   ],
   "source": [
    "accuracy"
   ],
   "metadata": {
    "collapsed": false,
    "ExecuteTime": {
     "end_time": "2024-03-23T19:18:41.975614500Z",
     "start_time": "2024-03-23T19:18:41.906488100Z"
    }
   },
   "id": "c197c2bd0c338b63"
  }
 ],
 "metadata": {
  "kernelspec": {
   "display_name": "Python 3",
   "language": "python",
   "name": "python3"
  },
  "language_info": {
   "codemirror_mode": {
    "name": "ipython",
    "version": 2
   },
   "file_extension": ".py",
   "mimetype": "text/x-python",
   "name": "python",
   "nbconvert_exporter": "python",
   "pygments_lexer": "ipython2",
   "version": "2.7.6"
  }
 },
 "nbformat": 4,
 "nbformat_minor": 5
}
